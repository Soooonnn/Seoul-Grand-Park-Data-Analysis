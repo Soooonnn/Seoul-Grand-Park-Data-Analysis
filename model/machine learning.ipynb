{
 "cells": [
  {
   "cell_type": "code",
   "execution_count": 32,
   "id": "ad69ebc6-034b-46b7-9eec-6bf30de3bbe0",
   "metadata": {},
   "outputs": [
    {
     "data": {
      "text/html": [
       "<div>\n",
       "<style scoped>\n",
       "    .dataframe tbody tr th:only-of-type {\n",
       "        vertical-align: middle;\n",
       "    }\n",
       "\n",
       "    .dataframe tbody tr th {\n",
       "        vertical-align: top;\n",
       "    }\n",
       "\n",
       "    .dataframe thead th {\n",
       "        text-align: right;\n",
       "    }\n",
       "</style>\n",
       "<table border=\"1\" class=\"dataframe\">\n",
       "  <thead>\n",
       "    <tr style=\"text-align: right;\">\n",
       "      <th></th>\n",
       "      <th>pm2.5</th>\n",
       "      <th>o3</th>\n",
       "      <th>no2</th>\n",
       "      <th>기온(°C)</th>\n",
       "      <th>풍속(m/s)</th>\n",
       "      <th>강수량(mm)</th>\n",
       "      <th>0~9</th>\n",
       "      <th>20~29</th>\n",
       "      <th>80~89</th>\n",
       "      <th>over 100</th>\n",
       "      <th>하차총승객수</th>\n",
       "      <th>입장객 수</th>\n",
       "    </tr>\n",
       "  </thead>\n",
       "  <tbody>\n",
       "    <tr>\n",
       "      <th>0</th>\n",
       "      <td>12.241500</td>\n",
       "      <td>0.024</td>\n",
       "      <td>0.026</td>\n",
       "      <td>8.641667</td>\n",
       "      <td>1.837500</td>\n",
       "      <td>0.000000</td>\n",
       "      <td>4678</td>\n",
       "      <td>8267</td>\n",
       "      <td>1636</td>\n",
       "      <td>9</td>\n",
       "      <td>9721</td>\n",
       "      <td>17070.0</td>\n",
       "    </tr>\n",
       "    <tr>\n",
       "      <th>1</th>\n",
       "      <td>25.930316</td>\n",
       "      <td>0.035</td>\n",
       "      <td>0.021</td>\n",
       "      <td>7.912500</td>\n",
       "      <td>2.162500</td>\n",
       "      <td>0.000000</td>\n",
       "      <td>4678</td>\n",
       "      <td>8267</td>\n",
       "      <td>1636</td>\n",
       "      <td>9</td>\n",
       "      <td>10397</td>\n",
       "      <td>32457.0</td>\n",
       "    </tr>\n",
       "    <tr>\n",
       "      <th>2</th>\n",
       "      <td>44.903672</td>\n",
       "      <td>0.036</td>\n",
       "      <td>0.035</td>\n",
       "      <td>10.837500</td>\n",
       "      <td>2.687500</td>\n",
       "      <td>0.000000</td>\n",
       "      <td>4678</td>\n",
       "      <td>8267</td>\n",
       "      <td>1636</td>\n",
       "      <td>9</td>\n",
       "      <td>3498</td>\n",
       "      <td>3032.0</td>\n",
       "    </tr>\n",
       "    <tr>\n",
       "      <th>3</th>\n",
       "      <td>40.147587</td>\n",
       "      <td>0.031</td>\n",
       "      <td>0.042</td>\n",
       "      <td>12.245833</td>\n",
       "      <td>1.516667</td>\n",
       "      <td>0.000000</td>\n",
       "      <td>4678</td>\n",
       "      <td>8267</td>\n",
       "      <td>1636</td>\n",
       "      <td>9</td>\n",
       "      <td>5501</td>\n",
       "      <td>3576.0</td>\n",
       "    </tr>\n",
       "    <tr>\n",
       "      <th>4</th>\n",
       "      <td>24.873408</td>\n",
       "      <td>0.018</td>\n",
       "      <td>0.041</td>\n",
       "      <td>11.941667</td>\n",
       "      <td>1.112500</td>\n",
       "      <td>1.416667</td>\n",
       "      <td>4678</td>\n",
       "      <td>8267</td>\n",
       "      <td>1636</td>\n",
       "      <td>9</td>\n",
       "      <td>3850</td>\n",
       "      <td>1067.0</td>\n",
       "    </tr>\n",
       "    <tr>\n",
       "      <th>...</th>\n",
       "      <td>...</td>\n",
       "      <td>...</td>\n",
       "      <td>...</td>\n",
       "      <td>...</td>\n",
       "      <td>...</td>\n",
       "      <td>...</td>\n",
       "      <td>...</td>\n",
       "      <td>...</td>\n",
       "      <td>...</td>\n",
       "      <td>...</td>\n",
       "      <td>...</td>\n",
       "      <td>...</td>\n",
       "    </tr>\n",
       "    <tr>\n",
       "      <th>1000</th>\n",
       "      <td>18.000000</td>\n",
       "      <td>0.018</td>\n",
       "      <td>0.026</td>\n",
       "      <td>-0.579167</td>\n",
       "      <td>1.375000</td>\n",
       "      <td>0.000000</td>\n",
       "      <td>4502</td>\n",
       "      <td>7952</td>\n",
       "      <td>1713</td>\n",
       "      <td>9</td>\n",
       "      <td>3583</td>\n",
       "      <td>1302.0</td>\n",
       "    </tr>\n",
       "    <tr>\n",
       "      <th>1001</th>\n",
       "      <td>23.000000</td>\n",
       "      <td>0.007</td>\n",
       "      <td>0.035</td>\n",
       "      <td>0.262500</td>\n",
       "      <td>0.579167</td>\n",
       "      <td>0.000000</td>\n",
       "      <td>4502</td>\n",
       "      <td>7952</td>\n",
       "      <td>1713</td>\n",
       "      <td>9</td>\n",
       "      <td>5194</td>\n",
       "      <td>2110.0</td>\n",
       "    </tr>\n",
       "    <tr>\n",
       "      <th>1002</th>\n",
       "      <td>28.000000</td>\n",
       "      <td>0.007</td>\n",
       "      <td>0.033</td>\n",
       "      <td>3.300000</td>\n",
       "      <td>0.833333</td>\n",
       "      <td>0.020833</td>\n",
       "      <td>4502</td>\n",
       "      <td>7952</td>\n",
       "      <td>1713</td>\n",
       "      <td>9</td>\n",
       "      <td>3582</td>\n",
       "      <td>6913.0</td>\n",
       "    </tr>\n",
       "    <tr>\n",
       "      <th>1003</th>\n",
       "      <td>26.000000</td>\n",
       "      <td>0.014</td>\n",
       "      <td>0.026</td>\n",
       "      <td>4.725000</td>\n",
       "      <td>1.891667</td>\n",
       "      <td>0.020833</td>\n",
       "      <td>4502</td>\n",
       "      <td>7952</td>\n",
       "      <td>1713</td>\n",
       "      <td>9</td>\n",
       "      <td>2277</td>\n",
       "      <td>863.0</td>\n",
       "    </tr>\n",
       "    <tr>\n",
       "      <th>1004</th>\n",
       "      <td>12.000000</td>\n",
       "      <td>0.023</td>\n",
       "      <td>0.015</td>\n",
       "      <td>-5.987500</td>\n",
       "      <td>2.300000</td>\n",
       "      <td>0.000000</td>\n",
       "      <td>4502</td>\n",
       "      <td>7952</td>\n",
       "      <td>1713</td>\n",
       "      <td>9</td>\n",
       "      <td>2409</td>\n",
       "      <td>548.0</td>\n",
       "    </tr>\n",
       "  </tbody>\n",
       "</table>\n",
       "<p>1005 rows × 12 columns</p>\n",
       "</div>"
      ],
      "text/plain": [
       "          pm2.5     o3    no2     기온(°C)   풍속(m/s)   강수량(mm)   0~9  20~29  \\\n",
       "0     12.241500  0.024  0.026   8.641667  1.837500  0.000000  4678   8267   \n",
       "1     25.930316  0.035  0.021   7.912500  2.162500  0.000000  4678   8267   \n",
       "2     44.903672  0.036  0.035  10.837500  2.687500  0.000000  4678   8267   \n",
       "3     40.147587  0.031  0.042  12.245833  1.516667  0.000000  4678   8267   \n",
       "4     24.873408  0.018  0.041  11.941667  1.112500  1.416667  4678   8267   \n",
       "...         ...    ...    ...        ...       ...       ...   ...    ...   \n",
       "1000  18.000000  0.018  0.026  -0.579167  1.375000  0.000000  4502   7952   \n",
       "1001  23.000000  0.007  0.035   0.262500  0.579167  0.000000  4502   7952   \n",
       "1002  28.000000  0.007  0.033   3.300000  0.833333  0.020833  4502   7952   \n",
       "1003  26.000000  0.014  0.026   4.725000  1.891667  0.020833  4502   7952   \n",
       "1004  12.000000  0.023  0.015  -5.987500  2.300000  0.000000  4502   7952   \n",
       "\n",
       "      80~89  over 100  하차총승객수    입장객 수  \n",
       "0      1636         9    9721  17070.0  \n",
       "1      1636         9   10397  32457.0  \n",
       "2      1636         9    3498   3032.0  \n",
       "3      1636         9    5501   3576.0  \n",
       "4      1636         9    3850   1067.0  \n",
       "...     ...       ...     ...      ...  \n",
       "1000   1713         9    3583   1302.0  \n",
       "1001   1713         9    5194   2110.0  \n",
       "1002   1713         9    3582   6913.0  \n",
       "1003   1713         9    2277    863.0  \n",
       "1004   1713         9    2409    548.0  \n",
       "\n",
       "[1005 rows x 12 columns]"
      ]
     },
     "execution_count": 32,
     "metadata": {},
     "output_type": "execute_result"
    }
   ],
   "source": [
    "import pandas as pd\n",
    "\n",
    "data = pd.read_csv('merged_data.csv')\n",
    "data.drop(columns = ['date'], inplace = True)\n",
    "data"
   ]
  },
  {
   "cell_type": "markdown",
   "id": "3e5ec1c4-407e-4046-bf95-5c1c4747388f",
   "metadata": {},
   "source": [
    "## X,y분리하기"
   ]
  },
  {
   "cell_type": "code",
   "execution_count": 33,
   "id": "7d1420be-99b8-45c5-b302-19e69d766efd",
   "metadata": {},
   "outputs": [],
   "source": [
    "X = data.iloc[:,:-1]\n",
    "y = data.iloc[:,-1]"
   ]
  },
  {
   "cell_type": "code",
   "execution_count": 1,
   "id": "feeb9a8b-c22a-47b0-86b0-f0e02249a31b",
   "metadata": {},
   "outputs": [
    {
     "ename": "NameError",
     "evalue": "name 'X' is not defined",
     "output_type": "error",
     "traceback": [
      "\u001b[1;31m---------------------------------------------------------------------------\u001b[0m",
      "\u001b[1;31mNameError\u001b[0m                                 Traceback (most recent call last)",
      "Cell \u001b[1;32mIn[1], line 4\u001b[0m\n\u001b[0;32m      1\u001b[0m \u001b[38;5;28;01mfrom\u001b[39;00m \u001b[38;5;21;01msklearn\u001b[39;00m\u001b[38;5;21;01m.\u001b[39;00m\u001b[38;5;21;01mmodel_selection\u001b[39;00m \u001b[38;5;28;01mimport\u001b[39;00m train_test_split\n\u001b[0;32m      2\u001b[0m \u001b[38;5;28;01mfrom\u001b[39;00m \u001b[38;5;21;01msklearn\u001b[39;00m\u001b[38;5;21;01m.\u001b[39;00m\u001b[38;5;21;01mpreprocessing\u001b[39;00m \u001b[38;5;28;01mimport\u001b[39;00m RobustScaler\n\u001b[1;32m----> 4\u001b[0m X_train, X_test, y_train, y_test \u001b[38;5;241m=\u001b[39m train_test_split(X,y,test_size \u001b[38;5;241m=\u001b[39m \u001b[38;5;241m0.2\u001b[39m, random_state \u001b[38;5;241m=\u001b[39m \u001b[38;5;241m42\u001b[39m)\n\u001b[0;32m      6\u001b[0m \u001b[38;5;66;03m#train, test 나눈 후에 정규화(서로 간섭하는걸 방지하기 위해)\u001b[39;00m\n\u001b[0;32m      7\u001b[0m scaler \u001b[38;5;241m=\u001b[39m RobustScaler()\n",
      "\u001b[1;31mNameError\u001b[0m: name 'X' is not defined"
     ]
    }
   ],
   "source": [
    "from sklearn.model_selection import train_test_split\n",
    "from sklearn.preprocessing import RobustScaler\n",
    "\n",
    "X_train, X_test, y_train, y_test = train_test_split(X,y,test_size = 0.2, random_state = 42)\n",
    "\n",
    "#train, test 나눈 후에 정규화(서로 간섭하는걸 방지하기 위해)\n",
    "scaler = RobustScaler()\n",
    "scaler.fit(X_train)\n",
    "\n",
    "X_train_scaled = scaler.transform(X_train)\n",
    "X_test_scaled = scaler.transform(X_test)\n",
    "\n"
   ]
  },
  {
   "cell_type": "markdown",
   "id": "82556972-661f-41ea-92d4-ec9741c79c23",
   "metadata": {},
   "source": [
    "## 1. 다중회귀분석"
   ]
  },
  {
   "cell_type": "code",
   "execution_count": 35,
   "id": "e5b88eef-a0bf-4024-87c7-adb7845bc55f",
   "metadata": {},
   "outputs": [],
   "source": [
    "from sklearn.linear_model import LinearRegression\n",
    "\n",
    "\n",
    "reg = LinearRegression()\n",
    "reg.fit(X_train_scaled, y_train)\n",
    "\n",
    "y_pred = reg.predict(X_test_scaled)\n"
   ]
  },
  {
   "cell_type": "markdown",
   "id": "f6b31341-28da-4454-a724-62212d36af9d",
   "metadata": {},
   "source": [
    "### 모델 성능 평가"
   ]
  },
  {
   "cell_type": "code",
   "execution_count": 36,
   "id": "5598d8d0-7b12-4c3a-a189-5382b3154667",
   "metadata": {},
   "outputs": [
    {
     "name": "stdout",
     "output_type": "stream",
     "text": [
      "MAE: 2346.337529940856\n",
      "MSE: 11919579.470222188\n",
      "RMSE: 3452.4743981993824\n",
      "R²: 0.7519705155869822\n"
     ]
    }
   ],
   "source": [
    "from sklearn.metrics import mean_absolute_error, mean_squared_error, r2_score\n",
    "import numpy as np\n",
    "\n",
    "def evaluate_model_performance(y_true, y_pred):\n",
    "    mae = mean_absolute_error(y_true, y_pred)\n",
    "    mse = mean_squared_error(y_true, y_pred)\n",
    "    rmse = np.sqrt(mse)  # RMSE는 MSE의 제곱근\n",
    "    r2 = r2_score(y_true, y_pred)\n",
    "\n",
    "    print(f'MAE: {mae}')\n",
    "    print(f'MSE: {mse}')\n",
    "    print(f'RMSE: {rmse}')\n",
    "    print(f'R²: {r2}')\n",
    "\n",
    "evaluate_model_performance(y_test, y_pred)"
   ]
  },
  {
   "cell_type": "markdown",
   "id": "dcb237b5-b507-478e-bf8c-afa2155b863b",
   "metadata": {},
   "source": [
    "## 랜덤포레스트"
   ]
  },
  {
   "cell_type": "code",
   "execution_count": 38,
   "id": "afd6a3a1-8686-48e8-88c9-0aa7e8dd7078",
   "metadata": {},
   "outputs": [
    {
     "name": "stdout",
     "output_type": "stream",
     "text": [
      "MAE: 1958.7336318407959\n",
      "MSE: 9824447.249287562\n",
      "RMSE: 3134.397430015467\n",
      "R²: 0.7955672352391924\n"
     ]
    }
   ],
   "source": [
    "from sklearn.ensemble import RandomForestRegressor\n",
    "\n",
    "rf = RandomForestRegressor()\n",
    "rf.fit(X_train_scaled, y_train)\n",
    "\n",
    "y_pred = rf.predict(X_test_scaled)\n",
    "\n",
    "evaluate_model_performance(y_test, y_pred)"
   ]
  },
  {
   "cell_type": "markdown",
   "id": "d25e4cf8-58c9-4ae6-916d-0babfcfc0176",
   "metadata": {},
   "source": [
    "## 랜덤포레스트  + Grid Search"
   ]
  },
  {
   "cell_type": "code",
   "execution_count": 44,
   "id": "c5348b1a-106d-4c2f-ac98-8f45c26debe5",
   "metadata": {},
   "outputs": [
    {
     "name": "stdout",
     "output_type": "stream",
     "text": [
      "Fitting 5 folds for each of 192 candidates, totalling 960 fits\n",
      "Best parameters:  {'max_depth': None, 'min_samples_leaf': 4, 'min_samples_split': 2, 'n_estimators': 200}\n",
      "MAE: 1840.5192575031874\n",
      "MSE: 8709565.404732976\n",
      "RMSE: 2951.1972832619945\n",
      "R²: 0.8187663396855469\n"
     ]
    }
   ],
   "source": [
    "from sklearn.ensemble import RandomForestRegressor\n",
    "from sklearn.model_selection import GridSearchCV\n",
    "\n",
    "rf = RandomForestRegressor()\n",
    "param_grid = {\n",
    "    'n_estimators':[100,150,200],\n",
    "    'max_depth':[None, 10,20,30],\n",
    "    'min_samples_split':[2,5,10,20],\n",
    "    'min_samples_leaf':[1,2,4,10]\n",
    "}\n",
    "\n",
    "grid_search = GridSearchCV(estimator=rf,\n",
    "                          param_grid = param_grid,\n",
    "                          scoring = 'neg_mean_squared_error',\n",
    "                          cv = 5,\n",
    "                          verbose=2,\n",
    "                          n_jobs=-1)\n",
    "grid_search.fit(X_train_scaled, y_train)\n",
    "print('Best parameters: ', grid_search.best_params_)\n",
    "\n",
    "best_rf = grid_search.best_estimator_\n",
    "\n",
    "y_pred = best_rf.predict(X_test_scaled)\n",
    "\n",
    "evaluate_model_performance(y_test, y_pred)"
   ]
  },
  {
   "cell_type": "markdown",
   "id": "b2868209-dd0a-4daa-9f03-ec47016c3a15",
   "metadata": {},
   "source": [
    "## XGBoost"
   ]
  },
  {
   "cell_type": "code",
   "execution_count": 41,
   "id": "62831a72-d7a9-4d5b-b674-190acdda9d3c",
   "metadata": {},
   "outputs": [
    {
     "name": "stdout",
     "output_type": "stream",
     "text": [
      "MAE: 2017.1681772108695\n",
      "MSE: 10944662.861849323\n",
      "RMSE: 3308.271884511508\n",
      "R²: 0.7722571426718137\n"
     ]
    }
   ],
   "source": [
    "from xgboost import XGBRegressor\n",
    "\n",
    "xgb = XGBRegressor()\n",
    "xgb.fit(X_train_scaled, y_train)\n",
    "\n",
    "y_pred = xgb.predict(X_test_scaled)\n",
    "evaluate_model_performance(y_test, y_pred)"
   ]
  },
  {
   "cell_type": "markdown",
   "id": "162c4f50-3f5c-41da-a649-ff4a68a34fd1",
   "metadata": {},
   "source": [
    "## XGBoost + Grid Search"
   ]
  },
  {
   "cell_type": "code",
   "execution_count": 47,
   "id": "331c0105-a3c0-4fef-b6d0-a2c2b1698116",
   "metadata": {},
   "outputs": [
    {
     "name": "stdout",
     "output_type": "stream",
     "text": [
      "Fitting 5 folds for each of 768 candidates, totalling 3840 fits\n",
      "Best parameters:  {'colsample_bytree': 0.8, 'learning_rate': 0.1, 'max_depth': 3, 'min_child_weight': 7, 'n_estimators': 100}\n",
      "MAE: 2012.8141198229434\n",
      "MSE: 10433645.589704584\n",
      "RMSE: 3230.115414300948\n",
      "R²: 0.7828906848074947\n"
     ]
    }
   ],
   "source": [
    "from sklearn.ensemble import RandomForestRegressor\n",
    "from sklearn.model_selection import GridSearchCV\n",
    "\n",
    "xgb = XGBRegressor()\n",
    "param_grid = {\n",
    "    'n_estimators':[100,200,300,500],\n",
    "    'learning_rate':[0.01,0.05,0.1,0.2],\n",
    "    'max_depth':[3,5,7,10],\n",
    "    'min_child_weight':[1,3,5,7],\n",
    "    'colsample_bytree':[0.6,0.7,0.8]\n",
    "}\n",
    "\n",
    "grid_search = GridSearchCV(estimator=xgb,\n",
    "                          param_grid = param_grid,\n",
    "                          scoring = 'neg_mean_squared_error',\n",
    "                          cv = 5,\n",
    "                          verbose=2,\n",
    "                          n_jobs=-1)\n",
    "grid_search.fit(X_train_scaled, y_train)\n",
    "print('Best parameters: ', grid_search.best_params_)\n",
    "\n",
    "best_xgb = grid_search.best_estimator_\n",
    "\n",
    "y_pred = best_xgb.predict(X_test_scaled)\n",
    "\n",
    "evaluate_model_performance(y_test, y_pred)"
   ]
  },
  {
   "cell_type": "markdown",
   "id": "6624cdbd-6d05-47f5-ae8f-8b0c577d7614",
   "metadata": {},
   "source": [
    "## LightGBM"
   ]
  },
  {
   "cell_type": "code",
   "execution_count": 43,
   "id": "58b27ca5-5c32-4545-803d-170214d19696",
   "metadata": {},
   "outputs": [
    {
     "name": "stdout",
     "output_type": "stream",
     "text": [
      "MAE: 1946.0322808543845\n",
      "MSE: 9757908.509740865\n",
      "RMSE: 3123.7651175689994\n",
      "R²: 0.7969518117088983\n"
     ]
    }
   ],
   "source": [
    "from lightgbm import LGBMRegressor\n",
    "lgbm = LGBMRegressor()\n",
    "lgbm.fit(X_train_scaled, y_train)\n",
    "\n",
    "y_pred = lgbm.predict(X_test_scaled)\n",
    "evaluate_model_performance(y_test, y_pred)"
   ]
  },
  {
   "cell_type": "markdown",
   "id": "3d4bf9a5-ce3e-46b7-8cc0-147b0594d2be",
   "metadata": {},
   "source": [
    "## LightGBM + Grid Search"
   ]
  },
  {
   "cell_type": "code",
   "execution_count": 49,
   "id": "e62d7587-70a6-43ab-8c75-e33186106aa5",
   "metadata": {},
   "outputs": [
    {
     "name": "stdout",
     "output_type": "stream",
     "text": [
      "Fitting 5 folds for each of 768 candidates, totalling 3840 fits\n",
      "Best parameters:  {'learning_rate': 0.01, 'max_depth': 5, 'min_child_samples': 10, 'n_estimators': 1000, 'num_leaves': 30}\n",
      "MAE: 1867.1833354547268\n",
      "MSE: 9348940.74982316\n",
      "RMSE: 3057.6037594533336\n",
      "R²: 0.805461848735569\n"
     ]
    }
   ],
   "source": [
    "from lightgbm import LGBMRegressor\n",
    "from sklearn.model_selection import GridSearchCV\n",
    "\n",
    "lgbm = LGBMRegressor()\n",
    "param_grid = {\n",
    "    'n_estimators':[100,200,500,1000],\n",
    "    'learning_rate':[0.01,0.05,0.1],\n",
    "    'num_leaves':[20,30,40,50],\n",
    "    'max_depth':[3,5,7,10],\n",
    "    'min_child_samples':[10,20,30,50]\n",
    "}\n",
    "\n",
    "grid_search = GridSearchCV(estimator=lgbm,\n",
    "                          param_grid = param_grid,\n",
    "                          scoring = 'neg_mean_squared_error',\n",
    "                          cv = 5,\n",
    "                          verbose=2,\n",
    "                          n_jobs=-1)\n",
    "grid_search.fit(X_train_scaled, y_train)\n",
    "print('Best parameters: ', grid_search.best_params_)\n",
    "\n",
    "best_lgbm = grid_search.best_estimator_\n",
    "\n",
    "y_pred = best_lgbm.predict(X_test_scaled)\n",
    "\n",
    "evaluate_model_performance(y_test, y_pred)"
   ]
  },
  {
   "cell_type": "code",
   "execution_count": null,
   "id": "b44ad8b2-195a-4c8d-8f98-364c39b836c3",
   "metadata": {},
   "outputs": [],
   "source": []
  }
 ],
 "metadata": {
  "kernelspec": {
   "display_name": "Python 3 (ipykernel)",
   "language": "python",
   "name": "python3"
  },
  "language_info": {
   "codemirror_mode": {
    "name": "ipython",
    "version": 3
   },
   "file_extension": ".py",
   "mimetype": "text/x-python",
   "name": "python",
   "nbconvert_exporter": "python",
   "pygments_lexer": "ipython3",
   "version": "3.11.7"
  }
 },
 "nbformat": 4,
 "nbformat_minor": 5
}
